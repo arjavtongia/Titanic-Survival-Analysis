{
 "cells": [
  {
   "cell_type": "markdown",
   "id": "transsexual-present",
   "metadata": {},
   "source": [
    "# ARJAV TONGIA (EN19CS303013)"
   ]
  },
  {
   "cell_type": "markdown",
   "id": "dramatic-patent",
   "metadata": {},
   "source": [
    "### Kaggle Link : https://www.kaggle.com/arjavtongia/titanic-survival-analysis"
   ]
  },
  {
   "cell_type": "markdown",
   "id": "distributed-former",
   "metadata": {},
   "source": [
    "### Github Link: "
   ]
  },
  {
   "cell_type": "markdown",
   "id": "arabic-samba",
   "metadata": {},
   "source": [
    "## Overview of the File:"
   ]
  },
  {
   "cell_type": "markdown",
   "id": "sophisticated-intranet",
   "metadata": {},
   "source": [
    "The sinking of the Titanic is one of the most infamous shipwrecks in history.\n",
    "\n",
    "On April 15, 1912, during her maiden voyage, the widely considered “unsinkable” RMS Titanic sank after colliding with an iceberg. Unfortunately, there weren’t enough lifeboats for everyone onboard, resulting in the death of 1502 out of 2224 passengers and crew.\n",
    "\n",
    "While there was some element of luck involved in surviving, it seems some groups of people were more likely to survive than others.\n",
    "\n",
    "In this challenge, we ask you to build a predictive model that answers the question: “what sorts of people were more likely to survive?” using passenger data (ie name, age, gender, socio-economic class, etc)."
   ]
  },
  {
   "cell_type": "markdown",
   "id": "patent-embassy",
   "metadata": {},
   "source": [
    "### Variable Notes\n",
    "pclass: A proxy for socio-economic status (SES)\n",
    "1st = Upper\n",
    "2nd = Middle\n",
    "3rd = Lower"
   ]
  },
  {
   "cell_type": "markdown",
   "id": "applicable-necklace",
   "metadata": {},
   "source": [
    "age: Age is fractional if less than 1. If the age is estimated, is it in the form of xx.5"
   ]
  },
  {
   "cell_type": "markdown",
   "id": "regulated-recovery",
   "metadata": {},
   "source": [
    "sibsp: The dataset defines family relations in this way..."
   ]
  },
  {
   "cell_type": "markdown",
   "id": "destroyed-anthropology",
   "metadata": {},
   "source": [
    "Sibling = brother, sister, stepbrother, stepsister"
   ]
  },
  {
   "cell_type": "markdown",
   "id": "radical-quilt",
   "metadata": {},
   "source": [
    "Spouse = husband, wife (mistresses and fiancés were ignored)"
   ]
  },
  {
   "cell_type": "markdown",
   "id": "british-approach",
   "metadata": {},
   "source": [
    "parch: The dataset defines family relations in this way..."
   ]
  },
  {
   "cell_type": "markdown",
   "id": "differential-belle",
   "metadata": {},
   "source": [
    "Parent = mother, father"
   ]
  },
  {
   "cell_type": "markdown",
   "id": "convenient-friendship",
   "metadata": {},
   "source": [
    "Child = daughter, son, stepdaughter, stepson"
   ]
  },
  {
   "cell_type": "markdown",
   "id": "executed-filling",
   "metadata": {},
   "source": [
    "Some children travelled only with a nanny, therefore parch=0 for them."
   ]
  },
  {
   "cell_type": "code",
   "execution_count": 1,
   "id": "stretch-thanksgiving",
   "metadata": {
    "_cell_guid": "b1076dfc-b9ad-4769-8c92-a6c4dae69d19",
    "_uuid": "8f2839f25d086af736a60e9eeb907d3b93b6e0e5",
    "execution": {
     "iopub.execute_input": "2021-05-06T09:38:10.849102Z",
     "iopub.status.busy": "2021-05-06T09:38:10.848267Z",
     "iopub.status.idle": "2021-05-06T09:38:12.457392Z",
     "shell.execute_reply": "2021-05-06T09:38:12.456435Z"
    },
    "papermill": {
     "duration": 1.653063,
     "end_time": "2021-05-06T09:38:12.457594",
     "exception": false,
     "start_time": "2021-05-06T09:38:10.804531",
     "status": "completed"
    },
    "tags": []
   },
   "outputs": [
    {
     "name": "stdout",
     "output_type": "stream",
     "text": [
      "/kaggle/input/titanic/train.csv\n",
      "/kaggle/input/titanic/test.csv\n",
      "/kaggle/input/titanic/gender_submission.csv\n"
     ]
    }
   ],
   "source": [
    "import numpy as np # linear algebra\n",
    "import pandas as pd # data processing, CSV file I/O (e.g. pd.read_csv)\n",
    "import matplotlib.pyplot as plt\n",
    "import seaborn as sns\n",
    "from sklearn.model_selection import train_test_split\n",
    "from sklearn.ensemble import GradientBoostingClassifier, AdaBoostClassifier\n",
    "from sklearn.tree import DecisionTreeClassifier\n",
    "from sklearn.metrics import accuracy_score, confusion_matrix\n",
    "from sklearn.model_selection import GridSearchCV\n",
    "\n",
    "# Input data files are available in the read-only \"../input/\" directory\n",
    "# For example, running this (by clicking run or pressing Shift+Enter) will list all files under the input directory\n",
    "\n",
    "import os\n",
    "for dirname, _, filenames in os.walk('/kaggle/input'):\n",
    "    for filename in filenames:\n",
    "        print(os.path.join(dirname, filename))\n",
    "\n",
    "# You can write up to 20GB to the current directory (/kaggle/working/) that gets preserved as output when you create a version using \"Save & Run All\" \n",
    "# You can also write temporary files to /kaggle/temp/, but they won't be saved outside of the current session"
   ]
  },
  {
   "cell_type": "code",
   "execution_count": 2,
   "id": "experienced-happening",
   "metadata": {
    "execution": {
     "iopub.execute_input": "2021-05-06T09:38:12.525067Z",
     "iopub.status.busy": "2021-05-06T09:38:12.524147Z",
     "iopub.status.idle": "2021-05-06T09:38:12.575652Z",
     "shell.execute_reply": "2021-05-06T09:38:12.575112Z"
    },
    "papermill": {
     "duration": 0.086946,
     "end_time": "2021-05-06T09:38:12.575810",
     "exception": false,
     "start_time": "2021-05-06T09:38:12.488864",
     "status": "completed"
    },
    "tags": []
   },
   "outputs": [
    {
     "data": {
      "text/html": [
       "<div>\n",
       "<style scoped>\n",
       "    .dataframe tbody tr th:only-of-type {\n",
       "        vertical-align: middle;\n",
       "    }\n",
       "\n",
       "    .dataframe tbody tr th {\n",
       "        vertical-align: top;\n",
       "    }\n",
       "\n",
       "    .dataframe thead th {\n",
       "        text-align: right;\n",
       "    }\n",
       "</style>\n",
       "<table border=\"1\" class=\"dataframe\">\n",
       "  <thead>\n",
       "    <tr style=\"text-align: right;\">\n",
       "      <th></th>\n",
       "      <th>PassengerId</th>\n",
       "      <th>Survived</th>\n",
       "      <th>Pclass</th>\n",
       "      <th>Name</th>\n",
       "      <th>Sex</th>\n",
       "      <th>Age</th>\n",
       "      <th>SibSp</th>\n",
       "      <th>Parch</th>\n",
       "      <th>Ticket</th>\n",
       "      <th>Fare</th>\n",
       "      <th>Cabin</th>\n",
       "      <th>Embarked</th>\n",
       "    </tr>\n",
       "  </thead>\n",
       "  <tbody>\n",
       "    <tr>\n",
       "      <th>0</th>\n",
       "      <td>1</td>\n",
       "      <td>0</td>\n",
       "      <td>3</td>\n",
       "      <td>Braund, Mr. Owen Harris</td>\n",
       "      <td>male</td>\n",
       "      <td>22.0</td>\n",
       "      <td>1</td>\n",
       "      <td>0</td>\n",
       "      <td>A/5 21171</td>\n",
       "      <td>7.2500</td>\n",
       "      <td>NaN</td>\n",
       "      <td>S</td>\n",
       "    </tr>\n",
       "    <tr>\n",
       "      <th>1</th>\n",
       "      <td>2</td>\n",
       "      <td>1</td>\n",
       "      <td>1</td>\n",
       "      <td>Cumings, Mrs. John Bradley (Florence Briggs Th...</td>\n",
       "      <td>female</td>\n",
       "      <td>38.0</td>\n",
       "      <td>1</td>\n",
       "      <td>0</td>\n",
       "      <td>PC 17599</td>\n",
       "      <td>71.2833</td>\n",
       "      <td>C85</td>\n",
       "      <td>C</td>\n",
       "    </tr>\n",
       "    <tr>\n",
       "      <th>2</th>\n",
       "      <td>3</td>\n",
       "      <td>1</td>\n",
       "      <td>3</td>\n",
       "      <td>Heikkinen, Miss. Laina</td>\n",
       "      <td>female</td>\n",
       "      <td>26.0</td>\n",
       "      <td>0</td>\n",
       "      <td>0</td>\n",
       "      <td>STON/O2. 3101282</td>\n",
       "      <td>7.9250</td>\n",
       "      <td>NaN</td>\n",
       "      <td>S</td>\n",
       "    </tr>\n",
       "    <tr>\n",
       "      <th>3</th>\n",
       "      <td>4</td>\n",
       "      <td>1</td>\n",
       "      <td>1</td>\n",
       "      <td>Futrelle, Mrs. Jacques Heath (Lily May Peel)</td>\n",
       "      <td>female</td>\n",
       "      <td>35.0</td>\n",
       "      <td>1</td>\n",
       "      <td>0</td>\n",
       "      <td>113803</td>\n",
       "      <td>53.1000</td>\n",
       "      <td>C123</td>\n",
       "      <td>S</td>\n",
       "    </tr>\n",
       "    <tr>\n",
       "      <th>4</th>\n",
       "      <td>5</td>\n",
       "      <td>0</td>\n",
       "      <td>3</td>\n",
       "      <td>Allen, Mr. William Henry</td>\n",
       "      <td>male</td>\n",
       "      <td>35.0</td>\n",
       "      <td>0</td>\n",
       "      <td>0</td>\n",
       "      <td>373450</td>\n",
       "      <td>8.0500</td>\n",
       "      <td>NaN</td>\n",
       "      <td>S</td>\n",
       "    </tr>\n",
       "  </tbody>\n",
       "</table>\n",
       "</div>"
      ],
      "text/plain": [
       "   PassengerId  Survived  Pclass  \\\n",
       "0            1         0       3   \n",
       "1            2         1       1   \n",
       "2            3         1       3   \n",
       "3            4         1       1   \n",
       "4            5         0       3   \n",
       "\n",
       "                                                Name     Sex   Age  SibSp  \\\n",
       "0                            Braund, Mr. Owen Harris    male  22.0      1   \n",
       "1  Cumings, Mrs. John Bradley (Florence Briggs Th...  female  38.0      1   \n",
       "2                             Heikkinen, Miss. Laina  female  26.0      0   \n",
       "3       Futrelle, Mrs. Jacques Heath (Lily May Peel)  female  35.0      1   \n",
       "4                           Allen, Mr. William Henry    male  35.0      0   \n",
       "\n",
       "   Parch            Ticket     Fare Cabin Embarked  \n",
       "0      0         A/5 21171   7.2500   NaN        S  \n",
       "1      0          PC 17599  71.2833   C85        C  \n",
       "2      0  STON/O2. 3101282   7.9250   NaN        S  \n",
       "3      0            113803  53.1000  C123        S  \n",
       "4      0            373450   8.0500   NaN        S  "
      ]
     },
     "execution_count": 2,
     "metadata": {},
     "output_type": "execute_result"
    }
   ],
   "source": [
    "df1 = pd.read_csv('/kaggle/input/titanic/train.csv')\n",
    "df1.head()"
   ]
  },
  {
   "cell_type": "code",
   "execution_count": 3,
   "id": "chicken-pixel",
   "metadata": {
    "execution": {
     "iopub.execute_input": "2021-05-06T09:38:12.643991Z",
     "iopub.status.busy": "2021-05-06T09:38:12.643147Z",
     "iopub.status.idle": "2021-05-06T09:38:12.669799Z",
     "shell.execute_reply": "2021-05-06T09:38:12.670331Z"
    },
    "papermill": {
     "duration": 0.062912,
     "end_time": "2021-05-06T09:38:12.670515",
     "exception": false,
     "start_time": "2021-05-06T09:38:12.607603",
     "status": "completed"
    },
    "tags": []
   },
   "outputs": [
    {
     "data": {
      "text/html": [
       "<div>\n",
       "<style scoped>\n",
       "    .dataframe tbody tr th:only-of-type {\n",
       "        vertical-align: middle;\n",
       "    }\n",
       "\n",
       "    .dataframe tbody tr th {\n",
       "        vertical-align: top;\n",
       "    }\n",
       "\n",
       "    .dataframe thead th {\n",
       "        text-align: right;\n",
       "    }\n",
       "</style>\n",
       "<table border=\"1\" class=\"dataframe\">\n",
       "  <thead>\n",
       "    <tr style=\"text-align: right;\">\n",
       "      <th></th>\n",
       "      <th>PassengerId</th>\n",
       "      <th>Pclass</th>\n",
       "      <th>Name</th>\n",
       "      <th>Sex</th>\n",
       "      <th>Age</th>\n",
       "      <th>SibSp</th>\n",
       "      <th>Parch</th>\n",
       "      <th>Ticket</th>\n",
       "      <th>Fare</th>\n",
       "      <th>Cabin</th>\n",
       "      <th>Embarked</th>\n",
       "    </tr>\n",
       "  </thead>\n",
       "  <tbody>\n",
       "    <tr>\n",
       "      <th>0</th>\n",
       "      <td>892</td>\n",
       "      <td>3</td>\n",
       "      <td>Kelly, Mr. James</td>\n",
       "      <td>male</td>\n",
       "      <td>34.5</td>\n",
       "      <td>0</td>\n",
       "      <td>0</td>\n",
       "      <td>330911</td>\n",
       "      <td>7.8292</td>\n",
       "      <td>NaN</td>\n",
       "      <td>Q</td>\n",
       "    </tr>\n",
       "    <tr>\n",
       "      <th>1</th>\n",
       "      <td>893</td>\n",
       "      <td>3</td>\n",
       "      <td>Wilkes, Mrs. James (Ellen Needs)</td>\n",
       "      <td>female</td>\n",
       "      <td>47.0</td>\n",
       "      <td>1</td>\n",
       "      <td>0</td>\n",
       "      <td>363272</td>\n",
       "      <td>7.0000</td>\n",
       "      <td>NaN</td>\n",
       "      <td>S</td>\n",
       "    </tr>\n",
       "    <tr>\n",
       "      <th>2</th>\n",
       "      <td>894</td>\n",
       "      <td>2</td>\n",
       "      <td>Myles, Mr. Thomas Francis</td>\n",
       "      <td>male</td>\n",
       "      <td>62.0</td>\n",
       "      <td>0</td>\n",
       "      <td>0</td>\n",
       "      <td>240276</td>\n",
       "      <td>9.6875</td>\n",
       "      <td>NaN</td>\n",
       "      <td>Q</td>\n",
       "    </tr>\n",
       "    <tr>\n",
       "      <th>3</th>\n",
       "      <td>895</td>\n",
       "      <td>3</td>\n",
       "      <td>Wirz, Mr. Albert</td>\n",
       "      <td>male</td>\n",
       "      <td>27.0</td>\n",
       "      <td>0</td>\n",
       "      <td>0</td>\n",
       "      <td>315154</td>\n",
       "      <td>8.6625</td>\n",
       "      <td>NaN</td>\n",
       "      <td>S</td>\n",
       "    </tr>\n",
       "    <tr>\n",
       "      <th>4</th>\n",
       "      <td>896</td>\n",
       "      <td>3</td>\n",
       "      <td>Hirvonen, Mrs. Alexander (Helga E Lindqvist)</td>\n",
       "      <td>female</td>\n",
       "      <td>22.0</td>\n",
       "      <td>1</td>\n",
       "      <td>1</td>\n",
       "      <td>3101298</td>\n",
       "      <td>12.2875</td>\n",
       "      <td>NaN</td>\n",
       "      <td>S</td>\n",
       "    </tr>\n",
       "  </tbody>\n",
       "</table>\n",
       "</div>"
      ],
      "text/plain": [
       "   PassengerId  Pclass                                          Name     Sex  \\\n",
       "0          892       3                              Kelly, Mr. James    male   \n",
       "1          893       3              Wilkes, Mrs. James (Ellen Needs)  female   \n",
       "2          894       2                     Myles, Mr. Thomas Francis    male   \n",
       "3          895       3                              Wirz, Mr. Albert    male   \n",
       "4          896       3  Hirvonen, Mrs. Alexander (Helga E Lindqvist)  female   \n",
       "\n",
       "    Age  SibSp  Parch   Ticket     Fare Cabin Embarked  \n",
       "0  34.5      0      0   330911   7.8292   NaN        Q  \n",
       "1  47.0      1      0   363272   7.0000   NaN        S  \n",
       "2  62.0      0      0   240276   9.6875   NaN        Q  \n",
       "3  27.0      0      0   315154   8.6625   NaN        S  \n",
       "4  22.0      1      1  3101298  12.2875   NaN        S  "
      ]
     },
     "execution_count": 3,
     "metadata": {},
     "output_type": "execute_result"
    }
   ],
   "source": [
    "test_df = pd.read_csv('/kaggle/input/titanic/test.csv')\n",
    "test_df.head()"
   ]
  },
  {
   "cell_type": "code",
   "execution_count": 4,
   "id": "rental-richardson",
   "metadata": {
    "execution": {
     "iopub.execute_input": "2021-05-06T09:38:12.739535Z",
     "iopub.status.busy": "2021-05-06T09:38:12.738810Z",
     "iopub.status.idle": "2021-05-06T09:38:12.776932Z",
     "shell.execute_reply": "2021-05-06T09:38:12.776352Z"
    },
    "papermill": {
     "duration": 0.07405,
     "end_time": "2021-05-06T09:38:12.777078",
     "exception": false,
     "start_time": "2021-05-06T09:38:12.703028",
     "status": "completed"
    },
    "tags": []
   },
   "outputs": [
    {
     "data": {
      "text/html": [
       "<div>\n",
       "<style scoped>\n",
       "    .dataframe tbody tr th:only-of-type {\n",
       "        vertical-align: middle;\n",
       "    }\n",
       "\n",
       "    .dataframe tbody tr th {\n",
       "        vertical-align: top;\n",
       "    }\n",
       "\n",
       "    .dataframe thead th {\n",
       "        text-align: right;\n",
       "    }\n",
       "</style>\n",
       "<table border=\"1\" class=\"dataframe\">\n",
       "  <thead>\n",
       "    <tr style=\"text-align: right;\">\n",
       "      <th></th>\n",
       "      <th>PassengerId</th>\n",
       "      <th>Survived</th>\n",
       "    </tr>\n",
       "  </thead>\n",
       "  <tbody>\n",
       "    <tr>\n",
       "      <th>0</th>\n",
       "      <td>892</td>\n",
       "      <td>0</td>\n",
       "    </tr>\n",
       "    <tr>\n",
       "      <th>1</th>\n",
       "      <td>893</td>\n",
       "      <td>1</td>\n",
       "    </tr>\n",
       "    <tr>\n",
       "      <th>2</th>\n",
       "      <td>894</td>\n",
       "      <td>0</td>\n",
       "    </tr>\n",
       "    <tr>\n",
       "      <th>3</th>\n",
       "      <td>895</td>\n",
       "      <td>0</td>\n",
       "    </tr>\n",
       "    <tr>\n",
       "      <th>4</th>\n",
       "      <td>896</td>\n",
       "      <td>1</td>\n",
       "    </tr>\n",
       "  </tbody>\n",
       "</table>\n",
       "</div>"
      ],
      "text/plain": [
       "   PassengerId  Survived\n",
       "0          892         0\n",
       "1          893         1\n",
       "2          894         0\n",
       "3          895         0\n",
       "4          896         1"
      ]
     },
     "execution_count": 4,
     "metadata": {},
     "output_type": "execute_result"
    }
   ],
   "source": [
    "survival_df = pd.read_csv('/kaggle/input/titanic/gender_submission.csv')\n",
    "survival_df.head()"
   ]
  },
  {
   "cell_type": "code",
   "execution_count": 5,
   "id": "vanilla-cemetery",
   "metadata": {
    "execution": {
     "iopub.execute_input": "2021-05-06T09:38:12.873464Z",
     "iopub.status.busy": "2021-05-06T09:38:12.872521Z",
     "iopub.status.idle": "2021-05-06T09:38:12.877224Z",
     "shell.execute_reply": "2021-05-06T09:38:12.876630Z"
    },
    "papermill": {
     "duration": 0.068083,
     "end_time": "2021-05-06T09:38:12.877376",
     "exception": false,
     "start_time": "2021-05-06T09:38:12.809293",
     "status": "completed"
    },
    "tags": []
   },
   "outputs": [
    {
     "data": {
      "text/html": [
       "<div>\n",
       "<style scoped>\n",
       "    .dataframe tbody tr th:only-of-type {\n",
       "        vertical-align: middle;\n",
       "    }\n",
       "\n",
       "    .dataframe tbody tr th {\n",
       "        vertical-align: top;\n",
       "    }\n",
       "\n",
       "    .dataframe thead th {\n",
       "        text-align: right;\n",
       "    }\n",
       "</style>\n",
       "<table border=\"1\" class=\"dataframe\">\n",
       "  <thead>\n",
       "    <tr style=\"text-align: right;\">\n",
       "      <th></th>\n",
       "      <th>PassengerId</th>\n",
       "      <th>Pclass</th>\n",
       "      <th>Name</th>\n",
       "      <th>Sex</th>\n",
       "      <th>Age</th>\n",
       "      <th>SibSp</th>\n",
       "      <th>Parch</th>\n",
       "      <th>Ticket</th>\n",
       "      <th>Fare</th>\n",
       "      <th>Cabin</th>\n",
       "      <th>Embarked</th>\n",
       "      <th>Survived</th>\n",
       "    </tr>\n",
       "  </thead>\n",
       "  <tbody>\n",
       "    <tr>\n",
       "      <th>0</th>\n",
       "      <td>892</td>\n",
       "      <td>3</td>\n",
       "      <td>Kelly, Mr. James</td>\n",
       "      <td>male</td>\n",
       "      <td>34.5</td>\n",
       "      <td>0</td>\n",
       "      <td>0</td>\n",
       "      <td>330911</td>\n",
       "      <td>7.8292</td>\n",
       "      <td>NaN</td>\n",
       "      <td>Q</td>\n",
       "      <td>0</td>\n",
       "    </tr>\n",
       "    <tr>\n",
       "      <th>1</th>\n",
       "      <td>893</td>\n",
       "      <td>3</td>\n",
       "      <td>Wilkes, Mrs. James (Ellen Needs)</td>\n",
       "      <td>female</td>\n",
       "      <td>47.0</td>\n",
       "      <td>1</td>\n",
       "      <td>0</td>\n",
       "      <td>363272</td>\n",
       "      <td>7.0000</td>\n",
       "      <td>NaN</td>\n",
       "      <td>S</td>\n",
       "      <td>1</td>\n",
       "    </tr>\n",
       "    <tr>\n",
       "      <th>2</th>\n",
       "      <td>894</td>\n",
       "      <td>2</td>\n",
       "      <td>Myles, Mr. Thomas Francis</td>\n",
       "      <td>male</td>\n",
       "      <td>62.0</td>\n",
       "      <td>0</td>\n",
       "      <td>0</td>\n",
       "      <td>240276</td>\n",
       "      <td>9.6875</td>\n",
       "      <td>NaN</td>\n",
       "      <td>Q</td>\n",
       "      <td>0</td>\n",
       "    </tr>\n",
       "    <tr>\n",
       "      <th>3</th>\n",
       "      <td>895</td>\n",
       "      <td>3</td>\n",
       "      <td>Wirz, Mr. Albert</td>\n",
       "      <td>male</td>\n",
       "      <td>27.0</td>\n",
       "      <td>0</td>\n",
       "      <td>0</td>\n",
       "      <td>315154</td>\n",
       "      <td>8.6625</td>\n",
       "      <td>NaN</td>\n",
       "      <td>S</td>\n",
       "      <td>0</td>\n",
       "    </tr>\n",
       "    <tr>\n",
       "      <th>4</th>\n",
       "      <td>896</td>\n",
       "      <td>3</td>\n",
       "      <td>Hirvonen, Mrs. Alexander (Helga E Lindqvist)</td>\n",
       "      <td>female</td>\n",
       "      <td>22.0</td>\n",
       "      <td>1</td>\n",
       "      <td>1</td>\n",
       "      <td>3101298</td>\n",
       "      <td>12.2875</td>\n",
       "      <td>NaN</td>\n",
       "      <td>S</td>\n",
       "      <td>1</td>\n",
       "    </tr>\n",
       "  </tbody>\n",
       "</table>\n",
       "</div>"
      ],
      "text/plain": [
       "   PassengerId  Pclass                                          Name     Sex  \\\n",
       "0          892       3                              Kelly, Mr. James    male   \n",
       "1          893       3              Wilkes, Mrs. James (Ellen Needs)  female   \n",
       "2          894       2                     Myles, Mr. Thomas Francis    male   \n",
       "3          895       3                              Wirz, Mr. Albert    male   \n",
       "4          896       3  Hirvonen, Mrs. Alexander (Helga E Lindqvist)  female   \n",
       "\n",
       "    Age  SibSp  Parch   Ticket     Fare Cabin Embarked  Survived  \n",
       "0  34.5      0      0   330911   7.8292   NaN        Q         0  \n",
       "1  47.0      1      0   363272   7.0000   NaN        S         1  \n",
       "2  62.0      0      0   240276   9.6875   NaN        Q         0  \n",
       "3  27.0      0      0   315154   8.6625   NaN        S         0  \n",
       "4  22.0      1      1  3101298  12.2875   NaN        S         1  "
      ]
     },
     "execution_count": 5,
     "metadata": {},
     "output_type": "execute_result"
    }
   ],
   "source": [
    "df2 = test_df.merge(survival_df, on='PassengerId')\n",
    "df2.head()"
   ]
  },
  {
   "cell_type": "code",
   "execution_count": 6,
   "id": "varying-morrison",
   "metadata": {
    "execution": {
     "iopub.execute_input": "2021-05-06T09:38:12.952517Z",
     "iopub.status.busy": "2021-05-06T09:38:12.948641Z",
     "iopub.status.idle": "2021-05-06T09:38:12.971213Z",
     "shell.execute_reply": "2021-05-06T09:38:12.970549Z"
    },
    "papermill": {
     "duration": 0.06128,
     "end_time": "2021-05-06T09:38:12.971377",
     "exception": false,
     "start_time": "2021-05-06T09:38:12.910097",
     "status": "completed"
    },
    "tags": []
   },
   "outputs": [
    {
     "data": {
      "text/html": [
       "<div>\n",
       "<style scoped>\n",
       "    .dataframe tbody tr th:only-of-type {\n",
       "        vertical-align: middle;\n",
       "    }\n",
       "\n",
       "    .dataframe tbody tr th {\n",
       "        vertical-align: top;\n",
       "    }\n",
       "\n",
       "    .dataframe thead th {\n",
       "        text-align: right;\n",
       "    }\n",
       "</style>\n",
       "<table border=\"1\" class=\"dataframe\">\n",
       "  <thead>\n",
       "    <tr style=\"text-align: right;\">\n",
       "      <th></th>\n",
       "      <th>PassengerId</th>\n",
       "      <th>Survived</th>\n",
       "      <th>Pclass</th>\n",
       "      <th>Name</th>\n",
       "      <th>Sex</th>\n",
       "      <th>Age</th>\n",
       "      <th>SibSp</th>\n",
       "      <th>Parch</th>\n",
       "      <th>Ticket</th>\n",
       "      <th>Fare</th>\n",
       "      <th>Cabin</th>\n",
       "      <th>Embarked</th>\n",
       "    </tr>\n",
       "  </thead>\n",
       "  <tbody>\n",
       "    <tr>\n",
       "      <th>0</th>\n",
       "      <td>1</td>\n",
       "      <td>0</td>\n",
       "      <td>3</td>\n",
       "      <td>Braund, Mr. Owen Harris</td>\n",
       "      <td>male</td>\n",
       "      <td>22.0</td>\n",
       "      <td>1</td>\n",
       "      <td>0</td>\n",
       "      <td>A/5 21171</td>\n",
       "      <td>7.2500</td>\n",
       "      <td>NaN</td>\n",
       "      <td>S</td>\n",
       "    </tr>\n",
       "    <tr>\n",
       "      <th>1</th>\n",
       "      <td>2</td>\n",
       "      <td>1</td>\n",
       "      <td>1</td>\n",
       "      <td>Cumings, Mrs. John Bradley (Florence Briggs Th...</td>\n",
       "      <td>female</td>\n",
       "      <td>38.0</td>\n",
       "      <td>1</td>\n",
       "      <td>0</td>\n",
       "      <td>PC 17599</td>\n",
       "      <td>71.2833</td>\n",
       "      <td>C85</td>\n",
       "      <td>C</td>\n",
       "    </tr>\n",
       "    <tr>\n",
       "      <th>2</th>\n",
       "      <td>3</td>\n",
       "      <td>1</td>\n",
       "      <td>3</td>\n",
       "      <td>Heikkinen, Miss. Laina</td>\n",
       "      <td>female</td>\n",
       "      <td>26.0</td>\n",
       "      <td>0</td>\n",
       "      <td>0</td>\n",
       "      <td>STON/O2. 3101282</td>\n",
       "      <td>7.9250</td>\n",
       "      <td>NaN</td>\n",
       "      <td>S</td>\n",
       "    </tr>\n",
       "    <tr>\n",
       "      <th>3</th>\n",
       "      <td>4</td>\n",
       "      <td>1</td>\n",
       "      <td>1</td>\n",
       "      <td>Futrelle, Mrs. Jacques Heath (Lily May Peel)</td>\n",
       "      <td>female</td>\n",
       "      <td>35.0</td>\n",
       "      <td>1</td>\n",
       "      <td>0</td>\n",
       "      <td>113803</td>\n",
       "      <td>53.1000</td>\n",
       "      <td>C123</td>\n",
       "      <td>S</td>\n",
       "    </tr>\n",
       "    <tr>\n",
       "      <th>4</th>\n",
       "      <td>5</td>\n",
       "      <td>0</td>\n",
       "      <td>3</td>\n",
       "      <td>Allen, Mr. William Henry</td>\n",
       "      <td>male</td>\n",
       "      <td>35.0</td>\n",
       "      <td>0</td>\n",
       "      <td>0</td>\n",
       "      <td>373450</td>\n",
       "      <td>8.0500</td>\n",
       "      <td>NaN</td>\n",
       "      <td>S</td>\n",
       "    </tr>\n",
       "  </tbody>\n",
       "</table>\n",
       "</div>"
      ],
      "text/plain": [
       "   PassengerId  Survived  Pclass  \\\n",
       "0            1         0       3   \n",
       "1            2         1       1   \n",
       "2            3         1       3   \n",
       "3            4         1       1   \n",
       "4            5         0       3   \n",
       "\n",
       "                                                Name     Sex   Age  SibSp  \\\n",
       "0                            Braund, Mr. Owen Harris    male  22.0      1   \n",
       "1  Cumings, Mrs. John Bradley (Florence Briggs Th...  female  38.0      1   \n",
       "2                             Heikkinen, Miss. Laina  female  26.0      0   \n",
       "3       Futrelle, Mrs. Jacques Heath (Lily May Peel)  female  35.0      1   \n",
       "4                           Allen, Mr. William Henry    male  35.0      0   \n",
       "\n",
       "   Parch            Ticket     Fare Cabin Embarked  \n",
       "0      0         A/5 21171   7.2500   NaN        S  \n",
       "1      0          PC 17599  71.2833   C85        C  \n",
       "2      0  STON/O2. 3101282   7.9250   NaN        S  \n",
       "3      0            113803  53.1000  C123        S  \n",
       "4      0            373450   8.0500   NaN        S  "
      ]
     },
     "execution_count": 6,
     "metadata": {},
     "output_type": "execute_result"
    }
   ],
   "source": [
    "df =  pd.concat([df1, df2])\n",
    "df.head()"
   ]
  },
  {
   "cell_type": "code",
   "execution_count": 7,
   "id": "vertical-quarter",
   "metadata": {
    "execution": {
     "iopub.execute_input": "2021-05-06T09:38:13.050746Z",
     "iopub.status.busy": "2021-05-06T09:38:13.046139Z",
     "iopub.status.idle": "2021-05-06T09:38:13.066714Z",
     "shell.execute_reply": "2021-05-06T09:38:13.065355Z"
    },
    "papermill": {
     "duration": 0.061354,
     "end_time": "2021-05-06T09:38:13.066930",
     "exception": false,
     "start_time": "2021-05-06T09:38:13.005576",
     "status": "completed"
    },
    "tags": []
   },
   "outputs": [
    {
     "name": "stdout",
     "output_type": "stream",
     "text": [
      "<class 'pandas.core.frame.DataFrame'>\n",
      "Int64Index: 1309 entries, 0 to 417\n",
      "Data columns (total 12 columns):\n",
      " #   Column       Non-Null Count  Dtype  \n",
      "---  ------       --------------  -----  \n",
      " 0   PassengerId  1309 non-null   int64  \n",
      " 1   Survived     1309 non-null   int64  \n",
      " 2   Pclass       1309 non-null   int64  \n",
      " 3   Name         1309 non-null   object \n",
      " 4   Sex          1309 non-null   object \n",
      " 5   Age          1046 non-null   float64\n",
      " 6   SibSp        1309 non-null   int64  \n",
      " 7   Parch        1309 non-null   int64  \n",
      " 8   Ticket       1309 non-null   object \n",
      " 9   Fare         1308 non-null   float64\n",
      " 10  Cabin        295 non-null    object \n",
      " 11  Embarked     1307 non-null   object \n",
      "dtypes: float64(2), int64(5), object(5)\n",
      "memory usage: 132.9+ KB\n"
     ]
    }
   ],
   "source": [
    "df.info()"
   ]
  },
  {
   "cell_type": "code",
   "execution_count": 8,
   "id": "minute-acquisition",
   "metadata": {
    "execution": {
     "iopub.execute_input": "2021-05-06T09:38:13.143120Z",
     "iopub.status.busy": "2021-05-06T09:38:13.141888Z",
     "iopub.status.idle": "2021-05-06T09:38:13.147325Z",
     "shell.execute_reply": "2021-05-06T09:38:13.146775Z"
    },
    "papermill": {
     "duration": 0.045192,
     "end_time": "2021-05-06T09:38:13.147578",
     "exception": false,
     "start_time": "2021-05-06T09:38:13.102386",
     "status": "completed"
    },
    "tags": []
   },
   "outputs": [],
   "source": [
    "df.drop(['Ticket', 'Cabin'], axis=1, inplace=True)"
   ]
  },
  {
   "cell_type": "code",
   "execution_count": 9,
   "id": "unlike-railway",
   "metadata": {
    "execution": {
     "iopub.execute_input": "2021-05-06T09:38:13.227700Z",
     "iopub.status.busy": "2021-05-06T09:38:13.227046Z",
     "iopub.status.idle": "2021-05-06T09:38:13.252446Z",
     "shell.execute_reply": "2021-05-06T09:38:13.250666Z"
    },
    "papermill": {
     "duration": 0.069118,
     "end_time": "2021-05-06T09:38:13.252603",
     "exception": false,
     "start_time": "2021-05-06T09:38:13.183485",
     "status": "completed"
    },
    "tags": []
   },
   "outputs": [],
   "source": [
    "df['Age'].fillna(method ='ffill', inplace=True)\n",
    "df.dropna(inplace=True)"
   ]
  },
  {
   "cell_type": "code",
   "execution_count": 10,
   "id": "consecutive-letter",
   "metadata": {
    "execution": {
     "iopub.execute_input": "2021-05-06T09:38:13.329929Z",
     "iopub.status.busy": "2021-05-06T09:38:13.329141Z",
     "iopub.status.idle": "2021-05-06T09:38:13.332381Z",
     "shell.execute_reply": "2021-05-06T09:38:13.332887Z"
    },
    "papermill": {
     "duration": 0.046243,
     "end_time": "2021-05-06T09:38:13.333055",
     "exception": false,
     "start_time": "2021-05-06T09:38:13.286812",
     "status": "completed"
    },
    "tags": []
   },
   "outputs": [
    {
     "data": {
      "text/plain": [
       "PassengerId    0\n",
       "Survived       0\n",
       "Pclass         0\n",
       "Name           0\n",
       "Sex            0\n",
       "Age            0\n",
       "SibSp          0\n",
       "Parch          0\n",
       "Fare           0\n",
       "Embarked       0\n",
       "dtype: int64"
      ]
     },
     "execution_count": 10,
     "metadata": {},
     "output_type": "execute_result"
    }
   ],
   "source": [
    "df.isna().sum()"
   ]
  },
  {
   "cell_type": "markdown",
   "id": "biological-friday",
   "metadata": {
    "papermill": {
     "duration": 0.034544,
     "end_time": "2021-05-06T09:38:13.402160",
     "exception": false,
     "start_time": "2021-05-06T09:38:13.367616",
     "status": "completed"
    },
    "tags": []
   },
   "source": [
    "## Q. Does pclass or sex have any effect on survival rate?"
   ]
  },
  {
   "cell_type": "code",
   "execution_count": 11,
   "id": "mysterious-medicine",
   "metadata": {
    "execution": {
     "iopub.execute_input": "2021-05-06T09:38:13.482113Z",
     "iopub.status.busy": "2021-05-06T09:38:13.481387Z",
     "iopub.status.idle": "2021-05-06T09:38:13.492997Z",
     "shell.execute_reply": "2021-05-06T09:38:13.492329Z"
    },
    "papermill": {
     "duration": 0.056481,
     "end_time": "2021-05-06T09:38:13.493153",
     "exception": false,
     "start_time": "2021-05-06T09:38:13.436672",
     "status": "completed"
    },
    "tags": []
   },
   "outputs": [
    {
     "data": {
      "text/html": [
       "<div>\n",
       "<style scoped>\n",
       "    .dataframe tbody tr th:only-of-type {\n",
       "        vertical-align: middle;\n",
       "    }\n",
       "\n",
       "    .dataframe tbody tr th {\n",
       "        vertical-align: top;\n",
       "    }\n",
       "\n",
       "    .dataframe thead th {\n",
       "        text-align: right;\n",
       "    }\n",
       "</style>\n",
       "<table border=\"1\" class=\"dataframe\">\n",
       "  <thead>\n",
       "    <tr style=\"text-align: right;\">\n",
       "      <th></th>\n",
       "      <th>Pclass</th>\n",
       "      <th>Survived</th>\n",
       "    </tr>\n",
       "  </thead>\n",
       "  <tbody>\n",
       "    <tr>\n",
       "      <th>0</th>\n",
       "      <td>1</td>\n",
       "      <td>0.573209</td>\n",
       "    </tr>\n",
       "    <tr>\n",
       "      <th>1</th>\n",
       "      <td>2</td>\n",
       "      <td>0.422383</td>\n",
       "    </tr>\n",
       "    <tr>\n",
       "      <th>2</th>\n",
       "      <td>3</td>\n",
       "      <td>0.269774</td>\n",
       "    </tr>\n",
       "  </tbody>\n",
       "</table>\n",
       "</div>"
      ],
      "text/plain": [
       "   Pclass  Survived\n",
       "0       1  0.573209\n",
       "1       2  0.422383\n",
       "2       3  0.269774"
      ]
     },
     "execution_count": 11,
     "metadata": {},
     "output_type": "execute_result"
    }
   ],
   "source": [
    "df[['Pclass', 'Survived']].groupby(['Pclass'], as_index=False).mean().sort_values(by='Survived', ascending=False)"
   ]
  },
  {
   "cell_type": "code",
   "execution_count": 12,
   "id": "connected-royalty",
   "metadata": {
    "execution": {
     "iopub.execute_input": "2021-05-06T09:38:13.575266Z",
     "iopub.status.busy": "2021-05-06T09:38:13.574562Z",
     "iopub.status.idle": "2021-05-06T09:38:13.835297Z",
     "shell.execute_reply": "2021-05-06T09:38:13.834537Z"
    },
    "papermill": {
     "duration": 0.303614,
     "end_time": "2021-05-06T09:38:13.835463",
     "exception": false,
     "start_time": "2021-05-06T09:38:13.531849",
     "status": "completed"
    },
    "tags": []
   },
   "outputs": [
    {
     "data": {
      "text/plain": [
       "<AxesSubplot:>"
      ]
     },
     "execution_count": 12,
     "metadata": {},
     "output_type": "execute_result"
    },
    {
     "data": {
      "image/png": "[encoded data removed]",
      "text/plain": [
       "<Figure size 432x288 with 1 Axes>"
      ]
     },
     "metadata": {
      "needs_background": "light"
     },
     "output_type": "display_data"
    }
   ],
   "source": [
    "df[['Pclass', 'Survived']].groupby(['Pclass'], as_index=False).mean().sort_values(by='Survived', ascending=False).plot()"
   ]
  },
  {
   "cell_type": "code",
   "execution_count": 13,
   "id": "median-beauty",
   "metadata": {
    "execution": {
     "iopub.execute_input": "2021-05-06T09:38:13.925875Z",
     "iopub.status.busy": "2021-05-06T09:38:13.925184Z",
     "iopub.status.idle": "2021-05-06T09:38:13.929043Z",
     "shell.execute_reply": "2021-05-06T09:38:13.928468Z"
    },
    "papermill": {
     "duration": 0.055344,
     "end_time": "2021-05-06T09:38:13.929184",
     "exception": false,
     "start_time": "2021-05-06T09:38:13.873840",
     "status": "completed"
    },
    "tags": []
   },
   "outputs": [
    {
     "data": {
      "text/html": [
       "<div>\n",
       "<style scoped>\n",
       "    .dataframe tbody tr th:only-of-type {\n",
       "        vertical-align: middle;\n",
       "    }\n",
       "\n",
       "    .dataframe tbody tr th {\n",
       "        vertical-align: top;\n",
       "    }\n",
       "\n",
       "    .dataframe thead th {\n",
       "        text-align: right;\n",
       "    }\n",
       "</style>\n",
       "<table border=\"1\" class=\"dataframe\">\n",
       "  <thead>\n",
       "    <tr style=\"text-align: right;\">\n",
       "      <th></th>\n",
       "      <th>Sex</th>\n",
       "      <th>Survived</th>\n",
       "    </tr>\n",
       "  </thead>\n",
       "  <tbody>\n",
       "    <tr>\n",
       "      <th>0</th>\n",
       "      <td>female</td>\n",
       "      <td>0.825431</td>\n",
       "    </tr>\n",
       "    <tr>\n",
       "      <th>1</th>\n",
       "      <td>male</td>\n",
       "      <td>0.129454</td>\n",
       "    </tr>\n",
       "  </tbody>\n",
       "</table>\n",
       "</div>"
      ],
      "text/plain": [
       "      Sex  Survived\n",
       "0  female  0.825431\n",
       "1    male  0.129454"
      ]
     },
     "execution_count": 13,
     "metadata": {},
     "output_type": "execute_result"
    }
   ],
   "source": [
    "df[['Sex', 'Survived']].groupby(['Sex'], as_index=False)['Survived'].mean()"
   ]
  },
  {
   "cell_type": "code",
   "execution_count": 14,
   "id": "critical-advancement",
   "metadata": {
    "execution": {
     "iopub.execute_input": "2021-05-06T09:38:14.040887Z",
     "iopub.status.busy": "2021-05-06T09:38:14.012756Z",
     "iopub.status.idle": "2021-05-06T09:38:14.150265Z",
     "shell.execute_reply": "2021-05-06T09:38:14.149638Z"
    },
    "papermill": {
     "duration": 0.183225,
     "end_time": "2021-05-06T09:38:14.150423",
     "exception": false,
     "start_time": "2021-05-06T09:38:13.967198",
     "status": "completed"
    },
    "tags": []
   },
   "outputs": [
    {
     "data": {
      "text/plain": [
       "<AxesSubplot:xlabel='Sex', ylabel='Survived'>"
      ]
     },
     "execution_count": 14,
     "metadata": {},
     "output_type": "execute_result"
    },
    {
     "data": {
      "image/png": "[encoded data removed]",
      "text/plain": [
       "<Figure size 432x288 with 1 Axes>"
      ]
     },
     "metadata": {
      "needs_background": "light"
     },
     "output_type": "display_data"
    }
   ],
   "source": [
    "sns.barplot(x='Sex', y='Survived', data=df[['Sex', 'Survived']].groupby(['Sex'], as_index=False)['Survived'].mean())"
   ]
  },
  {
   "cell_type": "code",
   "execution_count": 15,
   "id": "remarkable-cambridge",
   "metadata": {
    "execution": {
     "iopub.execute_input": "2021-05-06T09:38:14.405663Z",
     "iopub.status.busy": "2021-05-06T09:38:14.255435Z",
     "iopub.status.idle": "2021-05-06T09:38:14.929291Z",
     "shell.execute_reply": "2021-05-06T09:38:14.928618Z"
    },
    "papermill": {
     "duration": 0.734849,
     "end_time": "2021-05-06T09:38:14.929475",
     "exception": false,
     "start_time": "2021-05-06T09:38:14.194626",
     "status": "completed"
    },
    "tags": []
   },
   "outputs": [
    {
     "data": {
      "image/png": "[encoded data removed]",
      "text/plain": [
       "<Figure size 402.375x360 with 1 Axes>"
      ]
     },
     "metadata": {
      "needs_background": "light"
     },
     "output_type": "display_data"
    }
   ],
   "source": [
    "sns.catplot(x='Sex', y='Survived', hue='Pclass', data=df, kind='bar')\n",
    "plt.ylabel('Survival %')\n",
    "plt.title('Sex and Pclass VS Survival')\n",
    "plt.show()"
   ]
  },
  {
   "cell_type": "markdown",
   "id": "latter-polyester",
   "metadata": {
    "papermill": {
     "duration": 0.041464,
     "end_time": "2021-05-06T09:38:15.010986",
     "exception": false,
     "start_time": "2021-05-06T09:38:14.969522",
     "status": "completed"
    },
    "tags": []
   },
   "source": [
    "#### Ans: There is negative corelaton between Pclass and Survival rate, suviaval rate is decreasing with increase in Pclass. And females have highest chances of survival as male send female first."
   ]
  },
  {
   "cell_type": "markdown",
   "id": "stainless-colleague",
   "metadata": {
    "papermill": {
     "duration": 0.039929,
     "end_time": "2021-05-06T09:38:15.090087",
     "exception": false,
     "start_time": "2021-05-06T09:38:15.050158",
     "status": "completed"
    },
    "tags": []
   },
   "source": [
    "## Q. Which group of people survived the most?"
   ]
  },
  {
   "cell_type": "code",
   "execution_count": 16,
   "id": "indoor-chinese",
   "metadata": {
    "execution": {
     "iopub.execute_input": "2021-05-06T09:38:15.180507Z",
     "iopub.status.busy": "2021-05-06T09:38:15.179821Z",
     "iopub.status.idle": "2021-05-06T09:38:15.213429Z",
     "shell.execute_reply": "2021-05-06T09:38:15.212798Z"
    },
    "papermill": {
     "duration": 0.084216,
     "end_time": "2021-05-06T09:38:15.213579",
     "exception": false,
     "start_time": "2021-05-06T09:38:15.129363",
     "status": "completed"
    },
    "tags": []
   },
   "outputs": [
    {
     "data": {
      "text/html": [
       "<div>\n",
       "<style scoped>\n",
       "    .dataframe tbody tr th:only-of-type {\n",
       "        vertical-align: middle;\n",
       "    }\n",
       "\n",
       "    .dataframe tbody tr th {\n",
       "        vertical-align: top;\n",
       "    }\n",
       "\n",
       "    .dataframe thead th {\n",
       "        text-align: right;\n",
       "    }\n",
       "</style>\n",
       "<table border=\"1\" class=\"dataframe\">\n",
       "  <thead>\n",
       "    <tr style=\"text-align: right;\">\n",
       "      <th>Sex</th>\n",
       "      <th>female</th>\n",
       "      <th>male</th>\n",
       "    </tr>\n",
       "    <tr>\n",
       "      <th>Title</th>\n",
       "      <th></th>\n",
       "      <th></th>\n",
       "    </tr>\n",
       "  </thead>\n",
       "  <tbody>\n",
       "    <tr>\n",
       "      <th>Capt</th>\n",
       "      <td>0</td>\n",
       "      <td>1</td>\n",
       "    </tr>\n",
       "    <tr>\n",
       "      <th>Col</th>\n",
       "      <td>0</td>\n",
       "      <td>4</td>\n",
       "    </tr>\n",
       "    <tr>\n",
       "      <th>Countess</th>\n",
       "      <td>1</td>\n",
       "      <td>0</td>\n",
       "    </tr>\n",
       "    <tr>\n",
       "      <th>Don</th>\n",
       "      <td>0</td>\n",
       "      <td>1</td>\n",
       "    </tr>\n",
       "    <tr>\n",
       "      <th>Dona</th>\n",
       "      <td>1</td>\n",
       "      <td>0</td>\n",
       "    </tr>\n",
       "    <tr>\n",
       "      <th>Dr</th>\n",
       "      <td>1</td>\n",
       "      <td>7</td>\n",
       "    </tr>\n",
       "    <tr>\n",
       "      <th>Jonkheer</th>\n",
       "      <td>0</td>\n",
       "      <td>1</td>\n",
       "    </tr>\n",
       "    <tr>\n",
       "      <th>Lady</th>\n",
       "      <td>1</td>\n",
       "      <td>0</td>\n",
       "    </tr>\n",
       "    <tr>\n",
       "      <th>Major</th>\n",
       "      <td>0</td>\n",
       "      <td>2</td>\n",
       "    </tr>\n",
       "    <tr>\n",
       "      <th>Master</th>\n",
       "      <td>0</td>\n",
       "      <td>61</td>\n",
       "    </tr>\n",
       "    <tr>\n",
       "      <th>Miss</th>\n",
       "      <td>259</td>\n",
       "      <td>0</td>\n",
       "    </tr>\n",
       "    <tr>\n",
       "      <th>Mlle</th>\n",
       "      <td>2</td>\n",
       "      <td>0</td>\n",
       "    </tr>\n",
       "    <tr>\n",
       "      <th>Mme</th>\n",
       "      <td>1</td>\n",
       "      <td>0</td>\n",
       "    </tr>\n",
       "    <tr>\n",
       "      <th>Mr</th>\n",
       "      <td>0</td>\n",
       "      <td>756</td>\n",
       "    </tr>\n",
       "    <tr>\n",
       "      <th>Mrs</th>\n",
       "      <td>196</td>\n",
       "      <td>0</td>\n",
       "    </tr>\n",
       "    <tr>\n",
       "      <th>Ms</th>\n",
       "      <td>2</td>\n",
       "      <td>0</td>\n",
       "    </tr>\n",
       "    <tr>\n",
       "      <th>Rev</th>\n",
       "      <td>0</td>\n",
       "      <td>8</td>\n",
       "    </tr>\n",
       "    <tr>\n",
       "      <th>Sir</th>\n",
       "      <td>0</td>\n",
       "      <td>1</td>\n",
       "    </tr>\n",
       "  </tbody>\n",
       "</table>\n",
       "</div>"
      ],
      "text/plain": [
       "Sex       female  male\n",
       "Title                 \n",
       "Capt           0     1\n",
       "Col            0     4\n",
       "Countess       1     0\n",
       "Don            0     1\n",
       "Dona           1     0\n",
       "Dr             1     7\n",
       "Jonkheer       0     1\n",
       "Lady           1     0\n",
       "Major          0     2\n",
       "Master         0    61\n",
       "Miss         259     0\n",
       "Mlle           2     0\n",
       "Mme            1     0\n",
       "Mr             0   756\n",
       "Mrs          196     0\n",
       "Ms             2     0\n",
       "Rev            0     8\n",
       "Sir            0     1"
      ]
     },
     "execution_count": 16,
     "metadata": {},
     "output_type": "execute_result"
    }
   ],
   "source": [
    "df['Title'] = df.Name.str.extract(' ([A-Za-z]+)\\.', expand=False)\n",
    "\n",
    "pd.crosstab(df['Title'], df['Sex'])"
   ]
  },
  {
   "cell_type": "code",
   "execution_count": 17,
   "id": "marine-least",
   "metadata": {
    "execution": {
     "iopub.execute_input": "2021-05-06T09:38:15.308851Z",
     "iopub.status.busy": "2021-05-06T09:38:15.308162Z",
     "iopub.status.idle": "2021-05-06T09:38:15.353861Z",
     "shell.execute_reply": "2021-05-06T09:38:15.353296Z"
    },
    "papermill": {
     "duration": 0.099798,
     "end_time": "2021-05-06T09:38:15.354015",
     "exception": false,
     "start_time": "2021-05-06T09:38:15.254217",
     "status": "completed"
    },
    "tags": []
   },
   "outputs": [
    {
     "data": {
      "text/html": [
       "<div>\n",
       "<style scoped>\n",
       "    .dataframe tbody tr th:only-of-type {\n",
       "        vertical-align: middle;\n",
       "    }\n",
       "\n",
       "    .dataframe tbody tr th {\n",
       "        vertical-align: top;\n",
       "    }\n",
       "\n",
       "    .dataframe thead th {\n",
       "        text-align: right;\n",
       "    }\n",
       "</style>\n",
       "<table border=\"1\" class=\"dataframe\">\n",
       "  <thead>\n",
       "    <tr style=\"text-align: right;\">\n",
       "      <th></th>\n",
       "      <th>Title</th>\n",
       "      <th>Survived</th>\n",
       "    </tr>\n",
       "  </thead>\n",
       "  <tbody>\n",
       "    <tr>\n",
       "      <th>0</th>\n",
       "      <td>Master</td>\n",
       "      <td>0.377049</td>\n",
       "    </tr>\n",
       "    <tr>\n",
       "      <th>1</th>\n",
       "      <td>Miss</td>\n",
       "      <td>0.790875</td>\n",
       "    </tr>\n",
       "    <tr>\n",
       "      <th>2</th>\n",
       "      <td>Mr</td>\n",
       "      <td>0.107143</td>\n",
       "    </tr>\n",
       "    <tr>\n",
       "      <th>3</th>\n",
       "      <td>Mrs</td>\n",
       "      <td>0.868020</td>\n",
       "    </tr>\n",
       "    <tr>\n",
       "      <th>4</th>\n",
       "      <td>Rare</td>\n",
       "      <td>0.310345</td>\n",
       "    </tr>\n",
       "  </tbody>\n",
       "</table>\n",
       "</div>"
      ],
      "text/plain": [
       "    Title  Survived\n",
       "0  Master  0.377049\n",
       "1    Miss  0.790875\n",
       "2      Mr  0.107143\n",
       "3     Mrs  0.868020\n",
       "4    Rare  0.310345"
      ]
     },
     "execution_count": 17,
     "metadata": {},
     "output_type": "execute_result"
    }
   ],
   "source": [
    "for i in df:\n",
    "    df['Title'] = df['Title'].replace(['Lady', 'Countess','Capt', 'Col',\\\n",
    "    'Don', 'Dr', 'Major', 'Rev', 'Sir', 'Jonkheer', 'Dona'], 'Rare')\n",
    "\n",
    "    df['Title'] = df['Title'].replace('Mlle', 'Miss')\n",
    "    df['Title'] = df['Title'].replace('Ms', 'Miss')\n",
    "    df['Title'] = df['Title'].replace('Mme', 'Mrs')\n",
    "    \n",
    "df[['Title', 'Survived']].groupby(['Title'], as_index=False).mean()"
   ]
  },
  {
   "cell_type": "code",
   "execution_count": 18,
   "id": "sharp-anaheim",
   "metadata": {
    "execution": {
     "iopub.execute_input": "2021-05-06T09:38:15.445354Z",
     "iopub.status.busy": "2021-05-06T09:38:15.442583Z",
     "iopub.status.idle": "2021-05-06T09:38:15.862808Z",
     "shell.execute_reply": "2021-05-06T09:38:15.863348Z"
    },
    "papermill": {
     "duration": 0.468949,
     "end_time": "2021-05-06T09:38:15.863517",
     "exception": false,
     "start_time": "2021-05-06T09:38:15.394568",
     "status": "completed"
    },
    "tags": []
   },
   "outputs": [
    {
     "data": {
      "image/png": "[encoded data removed]",
      "text/plain": [
       "<Figure size 360x360 with 1 Axes>"
      ]
     },
     "metadata": {
      "needs_background": "light"
     },
     "output_type": "display_data"
    }
   ],
   "source": [
    "sns.catplot(x='Title', y='Survived', data=df, kind='bar')\n",
    "plt.ylabel('Survival %')\n",
    "plt.title('Title VS Survival')\n",
    "plt.show()"
   ]
  },
  {
   "cell_type": "code",
   "execution_count": 19,
   "id": "curious-banks",
   "metadata": {
    "execution": {
     "iopub.execute_input": "2021-05-06T09:38:15.955686Z",
     "iopub.status.busy": "2021-05-06T09:38:15.954607Z",
     "iopub.status.idle": "2021-05-06T09:38:16.209986Z",
     "shell.execute_reply": "2021-05-06T09:38:16.210479Z"
    },
    "papermill": {
     "duration": 0.304818,
     "end_time": "2021-05-06T09:38:16.210656",
     "exception": false,
     "start_time": "2021-05-06T09:38:15.905838",
     "status": "completed"
    },
    "tags": []
   },
   "outputs": [
    {
     "data": {
      "image/png": "[encoded data removed]",
      "text/plain": [
       "<Figure size 360x360 with 1 Axes>"
      ]
     },
     "metadata": {
      "needs_background": "light"
     },
     "output_type": "display_data"
    }
   ],
   "source": [
    "sns.catplot(x='Title', y='Survived', data=df, kind='point', kde=False, ci=None)\n",
    "plt.ylabel('Survival %')\n",
    "plt.title('Title VS Survival')\n",
    "plt.show()"
   ]
  },
  {
   "cell_type": "markdown",
   "id": "norman-national",
   "metadata": {
    "papermill": {
     "duration": 0.042539,
     "end_time": "2021-05-06T09:38:16.295533",
     "exception": false,
     "start_time": "2021-05-06T09:38:16.252994",
     "status": "completed"
    },
    "tags": []
   },
   "source": [
    "#### Ans: Ladies and Kids survived the most"
   ]
  },
  {
   "cell_type": "markdown",
   "id": "textile-documentary",
   "metadata": {
    "papermill": {
     "duration": 0.042647,
     "end_time": "2021-05-06T09:38:16.380610",
     "exception": false,
     "start_time": "2021-05-06T09:38:16.337963",
     "status": "completed"
    },
    "tags": []
   },
   "source": [
    "## Q. Which age group have highest chances of survived?"
   ]
  },
  {
   "cell_type": "code",
   "execution_count": 20,
   "id": "mobile-finger",
   "metadata": {
    "execution": {
     "iopub.execute_input": "2021-05-06T09:38:16.468798Z",
     "iopub.status.busy": "2021-05-06T09:38:16.467794Z",
     "iopub.status.idle": "2021-05-06T09:38:16.816156Z",
     "shell.execute_reply": "2021-05-06T09:38:16.815460Z"
    },
    "papermill": {
     "duration": 0.393474,
     "end_time": "2021-05-06T09:38:16.816292",
     "exception": false,
     "start_time": "2021-05-06T09:38:16.422818",
     "status": "completed"
    },
    "tags": []
   },
   "outputs": [
    {
     "data": {
      "image/png": "[encoded data removed]",
      "text/plain": [
       "<Figure size 360x360 with 1 Axes>"
      ]
     },
     "metadata": {
      "needs_background": "light"
     },
     "output_type": "display_data"
    }
   ],
   "source": [
    "sns.displot(df['Age'], kde=True)\n",
    "plt.show()"
   ]
  },
  {
   "cell_type": "code",
   "execution_count": 21,
   "id": "suitable-mixture",
   "metadata": {
    "execution": {
     "iopub.execute_input": "2021-05-06T09:38:16.911874Z",
     "iopub.status.busy": "2021-05-06T09:38:16.910903Z",
     "iopub.status.idle": "2021-05-06T09:38:16.916143Z",
     "shell.execute_reply": "2021-05-06T09:38:16.916706Z"
    },
    "papermill": {
     "duration": 0.057186,
     "end_time": "2021-05-06T09:38:16.916877",
     "exception": false,
     "start_time": "2021-05-06T09:38:16.859691",
     "status": "completed"
    },
    "tags": []
   },
   "outputs": [],
   "source": [
    "ranges = [0, 10, 20, 30, 40, 50, 60, np.inf]\n",
    "label = ['0-10', '10-20', '20-30', '30-40', '40-50', '50-60', '60+']\n",
    "\n",
    "df['Age group'] = pd.cut(df['Age'], bins=ranges, labels=label)"
   ]
  },
  {
   "cell_type": "code",
   "execution_count": 22,
   "id": "proved-final",
   "metadata": {
    "execution": {
     "iopub.execute_input": "2021-05-06T09:38:17.014294Z",
     "iopub.status.busy": "2021-05-06T09:38:17.010198Z",
     "iopub.status.idle": "2021-05-06T09:38:17.019823Z",
     "shell.execute_reply": "2021-05-06T09:38:17.019135Z"
    },
    "papermill": {
     "duration": 0.05895,
     "end_time": "2021-05-06T09:38:17.019966",
     "exception": false,
     "start_time": "2021-05-06T09:38:16.961016",
     "status": "completed"
    },
    "tags": []
   },
   "outputs": [
    {
     "data": {
      "text/plain": [
       "Age group\n",
       "0-10     0.544643\n",
       "10-20    0.395939\n",
       "20-30    0.331858\n",
       "30-40    0.390977\n",
       "40-50    0.341317\n",
       "50-60    0.405063\n",
       "60+      0.303030\n",
       "Name: Survived, dtype: float64"
      ]
     },
     "execution_count": 22,
     "metadata": {},
     "output_type": "execute_result"
    }
   ],
   "source": [
    "df.groupby('Age group')['Survived'].mean()"
   ]
  },
  {
   "cell_type": "code",
   "execution_count": 23,
   "id": "interpreted-payday",
   "metadata": {
    "execution": {
     "iopub.execute_input": "2021-05-06T09:38:17.155733Z",
     "iopub.status.busy": "2021-05-06T09:38:17.155023Z",
     "iopub.status.idle": "2021-05-06T09:38:17.389577Z",
     "shell.execute_reply": "2021-05-06T09:38:17.390042Z"
    },
    "papermill": {
     "duration": 0.325092,
     "end_time": "2021-05-06T09:38:17.390244",
     "exception": false,
     "start_time": "2021-05-06T09:38:17.065152",
     "status": "completed"
    },
    "tags": []
   },
   "outputs": [
    {
     "data": {
      "image/png": "[encoded data removed]",
      "text/plain": [
       "<Figure size 360x360 with 1 Axes>"
      ]
     },
     "metadata": {
      "needs_background": "light"
     },
     "output_type": "display_data"
    }
   ],
   "source": [
    "sns.catplot(x='Age group', y='Survived', data=df.groupby('Age group', as_index=False)['Survived'].mean(), kind='bar')\n",
    "plt.show()"
   ]
  },
  {
   "cell_type": "markdown",
   "id": "sustainable-crack",
   "metadata": {
    "papermill": {
     "duration": 0.046501,
     "end_time": "2021-05-06T09:38:17.481801",
     "exception": false,
     "start_time": "2021-05-06T09:38:17.435300",
     "status": "completed"
    },
    "tags": []
   },
   "source": [
    "#### Ans: Age grop of people 0-10 have highest chance of survival"
   ]
  },
  {
   "cell_type": "markdown",
   "id": "married-small",
   "metadata": {
    "papermill": {
     "duration": 0.045538,
     "end_time": "2021-05-06T09:38:17.572138",
     "exception": false,
     "start_time": "2021-05-06T09:38:17.526600",
     "status": "completed"
    },
    "tags": []
   },
   "source": [
    "## Q. Which Family size have highest chances of survival?"
   ]
  },
  {
   "cell_type": "code",
   "execution_count": 24,
   "id": "asian-opinion",
   "metadata": {
    "execution": {
     "iopub.execute_input": "2021-05-06T09:38:17.673794Z",
     "iopub.status.busy": "2021-05-06T09:38:17.672705Z",
     "iopub.status.idle": "2021-05-06T09:38:17.688291Z",
     "shell.execute_reply": "2021-05-06T09:38:17.687573Z"
    },
    "papermill": {
     "duration": 0.070663,
     "end_time": "2021-05-06T09:38:17.688467",
     "exception": false,
     "start_time": "2021-05-06T09:38:17.617804",
     "status": "completed"
    },
    "tags": []
   },
   "outputs": [
    {
     "data": {
      "text/html": [
       "<div>\n",
       "<style scoped>\n",
       "    .dataframe tbody tr th:only-of-type {\n",
       "        vertical-align: middle;\n",
       "    }\n",
       "\n",
       "    .dataframe tbody tr th {\n",
       "        vertical-align: top;\n",
       "    }\n",
       "\n",
       "    .dataframe thead th {\n",
       "        text-align: right;\n",
       "    }\n",
       "</style>\n",
       "<table border=\"1\" class=\"dataframe\">\n",
       "  <thead>\n",
       "    <tr style=\"text-align: right;\">\n",
       "      <th></th>\n",
       "      <th>FamilySize</th>\n",
       "      <th>Survived</th>\n",
       "    </tr>\n",
       "  </thead>\n",
       "  <tbody>\n",
       "    <tr>\n",
       "      <th>3</th>\n",
       "      <td>4</td>\n",
       "      <td>0.720930</td>\n",
       "    </tr>\n",
       "    <tr>\n",
       "      <th>2</th>\n",
       "      <td>3</td>\n",
       "      <td>0.559748</td>\n",
       "    </tr>\n",
       "    <tr>\n",
       "      <th>1</th>\n",
       "      <td>2</td>\n",
       "      <td>0.531915</td>\n",
       "    </tr>\n",
       "    <tr>\n",
       "      <th>6</th>\n",
       "      <td>7</td>\n",
       "      <td>0.312500</td>\n",
       "    </tr>\n",
       "    <tr>\n",
       "      <th>0</th>\n",
       "      <td>1</td>\n",
       "      <td>0.290978</td>\n",
       "    </tr>\n",
       "    <tr>\n",
       "      <th>4</th>\n",
       "      <td>5</td>\n",
       "      <td>0.227273</td>\n",
       "    </tr>\n",
       "    <tr>\n",
       "      <th>5</th>\n",
       "      <td>6</td>\n",
       "      <td>0.200000</td>\n",
       "    </tr>\n",
       "    <tr>\n",
       "      <th>8</th>\n",
       "      <td>11</td>\n",
       "      <td>0.181818</td>\n",
       "    </tr>\n",
       "    <tr>\n",
       "      <th>7</th>\n",
       "      <td>8</td>\n",
       "      <td>0.125000</td>\n",
       "    </tr>\n",
       "  </tbody>\n",
       "</table>\n",
       "</div>"
      ],
      "text/plain": [
       "   FamilySize  Survived\n",
       "3           4  0.720930\n",
       "2           3  0.559748\n",
       "1           2  0.531915\n",
       "6           7  0.312500\n",
       "0           1  0.290978\n",
       "4           5  0.227273\n",
       "5           6  0.200000\n",
       "8          11  0.181818\n",
       "7           8  0.125000"
      ]
     },
     "execution_count": 24,
     "metadata": {},
     "output_type": "execute_result"
    }
   ],
   "source": [
    "df['FamilySize'] = df['SibSp'] + df['Parch'] + 1\n",
    "\n",
    "df[['FamilySize', 'Survived']].groupby(['FamilySize'], as_index=False).mean().sort_values(by='Survived', ascending=False)"
   ]
  },
  {
   "cell_type": "code",
   "execution_count": 25,
   "id": "lovely-guard",
   "metadata": {
    "execution": {
     "iopub.execute_input": "2021-05-06T09:38:17.793757Z",
     "iopub.status.busy": "2021-05-06T09:38:17.790504Z",
     "iopub.status.idle": "2021-05-06T09:38:18.084456Z",
     "shell.execute_reply": "2021-05-06T09:38:18.083627Z"
    },
    "papermill": {
     "duration": 0.348869,
     "end_time": "2021-05-06T09:38:18.084639",
     "exception": false,
     "start_time": "2021-05-06T09:38:17.735770",
     "status": "completed"
    },
    "tags": []
   },
   "outputs": [
    {
     "data": {
      "image/png": "[encoded data removed]",
      "text/plain": [
       "<Figure size 360x360 with 1 Axes>"
      ]
     },
     "metadata": {
      "needs_background": "light"
     },
     "output_type": "display_data"
    }
   ],
   "source": [
    "sns.catplot(x='FamilySize', y='Survived', data=df, kind='bar', ci=None)\n",
    "plt.show()"
   ]
  },
  {
   "cell_type": "markdown",
   "id": "authentic-elevation",
   "metadata": {
    "papermill": {
     "duration": 0.046086,
     "end_time": "2021-05-06T09:38:18.177569",
     "exception": false,
     "start_time": "2021-05-06T09:38:18.131483",
     "status": "completed"
    },
    "tags": []
   },
   "source": [
    "#### Ans: Family with 4 members have highest chamce of survival"
   ]
  },
  {
   "cell_type": "markdown",
   "id": "broad-vacation",
   "metadata": {
    "papermill": {
     "duration": 0.046037,
     "end_time": "2021-05-06T09:38:18.270658",
     "exception": false,
     "start_time": "2021-05-06T09:38:18.224621",
     "status": "completed"
    },
    "tags": []
   },
   "source": [
    "## Q. Is being alone increase chances of survival?"
   ]
  },
  {
   "cell_type": "code",
   "execution_count": 26,
   "id": "decent-teach",
   "metadata": {
    "execution": {
     "iopub.execute_input": "2021-05-06T09:38:18.382765Z",
     "iopub.status.busy": "2021-05-06T09:38:18.382065Z",
     "iopub.status.idle": "2021-05-06T09:38:18.386549Z",
     "shell.execute_reply": "2021-05-06T09:38:18.385673Z"
    },
    "papermill": {
     "duration": 0.069705,
     "end_time": "2021-05-06T09:38:18.386741",
     "exception": false,
     "start_time": "2021-05-06T09:38:18.317036",
     "status": "completed"
    },
    "tags": []
   },
   "outputs": [
    {
     "data": {
      "text/html": [
       "<div>\n",
       "<style scoped>\n",
       "    .dataframe tbody tr th:only-of-type {\n",
       "        vertical-align: middle;\n",
       "    }\n",
       "\n",
       "    .dataframe tbody tr th {\n",
       "        vertical-align: top;\n",
       "    }\n",
       "\n",
       "    .dataframe thead th {\n",
       "        text-align: right;\n",
       "    }\n",
       "</style>\n",
       "<table border=\"1\" class=\"dataframe\">\n",
       "  <thead>\n",
       "    <tr style=\"text-align: right;\">\n",
       "      <th></th>\n",
       "      <th>IsAlone</th>\n",
       "      <th>Survived</th>\n",
       "    </tr>\n",
       "  </thead>\n",
       "  <tbody>\n",
       "    <tr>\n",
       "      <th>0</th>\n",
       "      <td>0</td>\n",
       "      <td>0.506744</td>\n",
       "    </tr>\n",
       "    <tr>\n",
       "      <th>1</th>\n",
       "      <td>1</td>\n",
       "      <td>0.290978</td>\n",
       "    </tr>\n",
       "  </tbody>\n",
       "</table>\n",
       "</div>"
      ],
      "text/plain": [
       "   IsAlone  Survived\n",
       "0        0  0.506744\n",
       "1        1  0.290978"
      ]
     },
     "execution_count": 26,
     "metadata": {},
     "output_type": "execute_result"
    }
   ],
   "source": [
    "df['IsAlone'] = 0\n",
    "df.loc[df['FamilySize'] == 1, 'IsAlone'] = 1\n",
    "\n",
    "df[['IsAlone', 'Survived']].groupby(['IsAlone'], as_index=False).mean()"
   ]
  },
  {
   "cell_type": "code",
   "execution_count": 27,
   "id": "ancient-north",
   "metadata": {
    "execution": {
     "iopub.execute_input": "2021-05-06T09:38:18.491075Z",
     "iopub.status.busy": "2021-05-06T09:38:18.490160Z",
     "iopub.status.idle": "2021-05-06T09:38:18.816597Z",
     "shell.execute_reply": "2021-05-06T09:38:18.815918Z"
    },
    "papermill": {
     "duration": 0.382658,
     "end_time": "2021-05-06T09:38:18.816748",
     "exception": false,
     "start_time": "2021-05-06T09:38:18.434090",
     "status": "completed"
    },
    "tags": []
   },
   "outputs": [
    {
     "data": {
      "text/plain": [
       "<seaborn.axisgrid.FacetGrid at 0x7ff909dd7710>"
      ]
     },
     "execution_count": 27,
     "metadata": {},
     "output_type": "execute_result"
    },
    {
     "data": {
      "image/png": "[encoded data removed]",
      "text/plain": [
       "<Figure size 360x360 with 1 Axes>"
      ]
     },
     "metadata": {
      "needs_background": "light"
     },
     "output_type": "display_data"
    }
   ],
   "source": [
    "sns.catplot(x='IsAlone', y='Survived', data=df, kind='point')"
   ]
  },
  {
   "cell_type": "markdown",
   "id": "innovative-circuit",
   "metadata": {
    "papermill": {
     "duration": 0.050624,
     "end_time": "2021-05-06T09:38:18.915889",
     "exception": false,
     "start_time": "2021-05-06T09:38:18.865265",
     "status": "completed"
    },
    "tags": []
   },
   "source": [
    "#### Ans: No, it Doesn't have any significant impact"
   ]
  },
  {
   "cell_type": "markdown",
   "id": "chemical-sociology",
   "metadata": {
    "papermill": {
     "duration": 0.047683,
     "end_time": "2021-05-06T09:38:19.011538",
     "exception": false,
     "start_time": "2021-05-06T09:38:18.963855",
     "status": "completed"
    },
    "tags": []
   },
   "source": [
    "## Model"
   ]
  },
  {
   "cell_type": "code",
   "execution_count": 28,
   "id": "empirical-active",
   "metadata": {
    "execution": {
     "iopub.execute_input": "2021-05-06T09:38:19.118647Z",
     "iopub.status.busy": "2021-05-06T09:38:19.117987Z",
     "iopub.status.idle": "2021-05-06T09:38:19.121728Z",
     "shell.execute_reply": "2021-05-06T09:38:19.122192Z"
    },
    "papermill": {
     "duration": 0.061047,
     "end_time": "2021-05-06T09:38:19.122386",
     "exception": false,
     "start_time": "2021-05-06T09:38:19.061339",
     "status": "completed"
    },
    "tags": []
   },
   "outputs": [],
   "source": [
    "train_df = df.drop(['PassengerId', 'Name'], axis=1)"
   ]
  },
  {
   "cell_type": "code",
   "execution_count": 29,
   "id": "valued-algeria",
   "metadata": {
    "execution": {
     "iopub.execute_input": "2021-05-06T09:38:19.229101Z",
     "iopub.status.busy": "2021-05-06T09:38:19.228117Z",
     "iopub.status.idle": "2021-05-06T09:38:19.232930Z",
     "shell.execute_reply": "2021-05-06T09:38:19.232202Z"
    },
    "papermill": {
     "duration": 0.061205,
     "end_time": "2021-05-06T09:38:19.233076",
     "exception": false,
     "start_time": "2021-05-06T09:38:19.171871",
     "status": "completed"
    },
    "tags": []
   },
   "outputs": [],
   "source": [
    "train_df['Age group'] = train_df['Age group'].astype('object')"
   ]
  },
  {
   "cell_type": "code",
   "execution_count": 30,
   "id": "eleven-closer",
   "metadata": {
    "execution": {
     "iopub.execute_input": "2021-05-06T09:38:19.343817Z",
     "iopub.status.busy": "2021-05-06T09:38:19.342776Z",
     "iopub.status.idle": "2021-05-06T09:38:19.346654Z",
     "shell.execute_reply": "2021-05-06T09:38:19.345978Z"
    },
    "papermill": {
     "duration": 0.063651,
     "end_time": "2021-05-06T09:38:19.346799",
     "exception": false,
     "start_time": "2021-05-06T09:38:19.283148",
     "status": "completed"
    },
    "tags": []
   },
   "outputs": [],
   "source": [
    "from sklearn.preprocessing import LabelEncoder\n",
    "\n",
    "# Instantiate LabelEncoder\n",
    "le=LabelEncoder()\n",
    "\n",
    "# Iterate over all the values of each column and extract their dtypes\n",
    "for col in train_df.columns:\n",
    "    # Compare if the dtype is object\n",
    "    if train_df[col].dtypes=='object':\n",
    "    # Use LabelEncoder to do the numeric transformation\n",
    "        train_df[col]=le.fit_transform(df[col])"
   ]
  },
  {
   "cell_type": "code",
   "execution_count": 31,
   "id": "classified-melissa",
   "metadata": {
    "execution": {
     "iopub.execute_input": "2021-05-06T09:38:19.456155Z",
     "iopub.status.busy": "2021-05-06T09:38:19.452894Z",
     "iopub.status.idle": "2021-05-06T09:38:19.466494Z",
     "shell.execute_reply": "2021-05-06T09:38:19.467020Z"
    },
    "papermill": {
     "duration": 0.070401,
     "end_time": "2021-05-06T09:38:19.467227",
     "exception": false,
     "start_time": "2021-05-06T09:38:19.396826",
     "status": "completed"
    },
    "tags": []
   },
   "outputs": [
    {
     "name": "stdout",
     "output_type": "stream",
     "text": [
      "<class 'pandas.core.frame.DataFrame'>\n",
      "Int64Index: 1306 entries, 0 to 417\n",
      "Data columns (total 12 columns):\n",
      " #   Column      Non-Null Count  Dtype  \n",
      "---  ------      --------------  -----  \n",
      " 0   Survived    1306 non-null   int64  \n",
      " 1   Pclass      1306 non-null   int64  \n",
      " 2   Sex         1306 non-null   int64  \n",
      " 3   Age         1306 non-null   float64\n",
      " 4   SibSp       1306 non-null   int64  \n",
      " 5   Parch       1306 non-null   int64  \n",
      " 6   Fare        1306 non-null   float64\n",
      " 7   Embarked    1306 non-null   int64  \n",
      " 8   Title       1306 non-null   int64  \n",
      " 9   Age group   1306 non-null   int64  \n",
      " 10  FamilySize  1306 non-null   int64  \n",
      " 11  IsAlone     1306 non-null   int64  \n",
      "dtypes: float64(2), int64(10)\n",
      "memory usage: 164.9 KB\n"
     ]
    }
   ],
   "source": [
    "train_df.info()"
   ]
  },
  {
   "cell_type": "code",
   "execution_count": 32,
   "id": "extreme-thanks",
   "metadata": {
    "execution": {
     "iopub.execute_input": "2021-05-06T09:38:19.576397Z",
     "iopub.status.busy": "2021-05-06T09:38:19.573426Z",
     "iopub.status.idle": "2021-05-06T09:38:19.581553Z",
     "shell.execute_reply": "2021-05-06T09:38:19.580964Z"
    },
    "papermill": {
     "duration": 0.064706,
     "end_time": "2021-05-06T09:38:19.581714",
     "exception": false,
     "start_time": "2021-05-06T09:38:19.517008",
     "status": "completed"
    },
    "tags": []
   },
   "outputs": [],
   "source": [
    "from sklearn.ensemble import RandomForestClassifier\n",
    "\n",
    "X = train_df.drop('Survived', axis=1)\n",
    "y = train_df.Survived\n",
    "\n",
    "X_train, X_test, y_train, y_test = train_test_split(X, y, test_size=0.3)"
   ]
  },
  {
   "cell_type": "code",
   "execution_count": 33,
   "id": "discrete-taylor",
   "metadata": {
    "execution": {
     "iopub.execute_input": "2021-05-06T09:38:19.691651Z",
     "iopub.status.busy": "2021-05-06T09:38:19.690999Z",
     "iopub.status.idle": "2021-05-06T09:38:20.208775Z",
     "shell.execute_reply": "2021-05-06T09:38:20.209504Z"
    },
    "papermill": {
     "duration": 0.577299,
     "end_time": "2021-05-06T09:38:20.209715",
     "exception": false,
     "start_time": "2021-05-06T09:38:19.632416",
     "status": "completed"
    },
    "tags": []
   },
   "outputs": [],
   "source": [
    "model = RandomForestClassifier(n_estimators=200)\n",
    "\n",
    "model.fit(X_train, y_train)\n",
    "\n",
    "y_pred = model.predict(X_test)"
   ]
  },
  {
   "cell_type": "code",
   "execution_count": 34,
   "id": "upper-basket",
   "metadata": {
    "execution": {
     "iopub.execute_input": "2021-05-06T09:38:20.322299Z",
     "iopub.status.busy": "2021-05-06T09:38:20.321275Z",
     "iopub.status.idle": "2021-05-06T09:38:20.412031Z",
     "shell.execute_reply": "2021-05-06T09:38:20.410563Z"
    },
    "papermill": {
     "duration": 0.151082,
     "end_time": "2021-05-06T09:38:20.412338",
     "exception": false,
     "start_time": "2021-05-06T09:38:20.261256",
     "status": "completed"
    },
    "tags": []
   },
   "outputs": [
    {
     "name": "stdout",
     "output_type": "stream",
     "text": [
      "Train score:\n",
      "0.9890590809628009\n",
      "Test score:\n",
      "0.8112244897959183\n"
     ]
    }
   ],
   "source": [
    "print(\"Train score:\")\n",
    "print(model.score(X_train, y_train))\n",
    "\n",
    "print(\"Test score:\")\n",
    "print(model.score(X_test, y_test))"
   ]
  },
  {
   "cell_type": "code",
   "execution_count": 35,
   "id": "dried-dining",
   "metadata": {
    "execution": {
     "iopub.execute_input": "2021-05-06T09:38:20.528046Z",
     "iopub.status.busy": "2021-05-06T09:38:20.526947Z",
     "iopub.status.idle": "2021-05-06T09:38:20.547124Z",
     "shell.execute_reply": "2021-05-06T09:38:20.546520Z"
    },
    "papermill": {
     "duration": 0.084472,
     "end_time": "2021-05-06T09:38:20.547275",
     "exception": false,
     "start_time": "2021-05-06T09:38:20.462803",
     "status": "completed"
    },
    "tags": []
   },
   "outputs": [
    {
     "data": {
      "text/plain": [
       "array([0.04147769, 0.32069865, 0.14256966, 0.02541512, 0.0183285 ,\n",
       "       0.16088897, 0.02504536, 0.1687019 , 0.04347108, 0.04129597,\n",
       "       0.01210709])"
      ]
     },
     "execution_count": 35,
     "metadata": {},
     "output_type": "execute_result"
    }
   ],
   "source": [
    "model.feature_importances_"
   ]
  },
  {
   "cell_type": "code",
   "execution_count": 36,
   "id": "tough-estate",
   "metadata": {
    "execution": {
     "iopub.execute_input": "2021-05-06T09:38:20.652944Z",
     "iopub.status.busy": "2021-05-06T09:38:20.651968Z",
     "iopub.status.idle": "2021-05-06T09:38:20.681755Z",
     "shell.execute_reply": "2021-05-06T09:38:20.682202Z"
    },
    "papermill": {
     "duration": 0.084591,
     "end_time": "2021-05-06T09:38:20.682404",
     "exception": false,
     "start_time": "2021-05-06T09:38:20.597813",
     "status": "completed"
    },
    "tags": []
   },
   "outputs": [
    {
     "data": {
      "text/html": [
       "<div>\n",
       "<style scoped>\n",
       "    .dataframe tbody tr th:only-of-type {\n",
       "        vertical-align: middle;\n",
       "    }\n",
       "\n",
       "    .dataframe tbody tr th {\n",
       "        vertical-align: top;\n",
       "    }\n",
       "\n",
       "    .dataframe thead th {\n",
       "        text-align: right;\n",
       "    }\n",
       "</style>\n",
       "<table border=\"1\" class=\"dataframe\">\n",
       "  <thead>\n",
       "    <tr style=\"text-align: right;\">\n",
       "      <th></th>\n",
       "      <th>Coefficient</th>\n",
       "    </tr>\n",
       "  </thead>\n",
       "  <tbody>\n",
       "    <tr>\n",
       "      <th>Sex</th>\n",
       "      <td>0.320699</td>\n",
       "    </tr>\n",
       "    <tr>\n",
       "      <th>Title</th>\n",
       "      <td>0.168702</td>\n",
       "    </tr>\n",
       "    <tr>\n",
       "      <th>Fare</th>\n",
       "      <td>0.160889</td>\n",
       "    </tr>\n",
       "    <tr>\n",
       "      <th>Age</th>\n",
       "      <td>0.142570</td>\n",
       "    </tr>\n",
       "    <tr>\n",
       "      <th>Age group</th>\n",
       "      <td>0.043471</td>\n",
       "    </tr>\n",
       "    <tr>\n",
       "      <th>Pclass</th>\n",
       "      <td>0.041478</td>\n",
       "    </tr>\n",
       "    <tr>\n",
       "      <th>FamilySize</th>\n",
       "      <td>0.041296</td>\n",
       "    </tr>\n",
       "    <tr>\n",
       "      <th>SibSp</th>\n",
       "      <td>0.025415</td>\n",
       "    </tr>\n",
       "    <tr>\n",
       "      <th>Embarked</th>\n",
       "      <td>0.025045</td>\n",
       "    </tr>\n",
       "    <tr>\n",
       "      <th>Parch</th>\n",
       "      <td>0.018329</td>\n",
       "    </tr>\n",
       "    <tr>\n",
       "      <th>IsAlone</th>\n",
       "      <td>0.012107</td>\n",
       "    </tr>\n",
       "  </tbody>\n",
       "</table>\n",
       "</div>"
      ],
      "text/plain": [
       "            Coefficient\n",
       "Sex            0.320699\n",
       "Title          0.168702\n",
       "Fare           0.160889\n",
       "Age            0.142570\n",
       "Age group      0.043471\n",
       "Pclass         0.041478\n",
       "FamilySize     0.041296\n",
       "SibSp          0.025415\n",
       "Embarked       0.025045\n",
       "Parch          0.018329\n",
       "IsAlone        0.012107"
      ]
     },
     "execution_count": 36,
     "metadata": {},
     "output_type": "execute_result"
    }
   ],
   "source": [
    "coeff_df = pd.DataFrame(model.feature_importances_, X.columns, columns=['Coefficient'])\n",
    "coeff_df.sort_values(by='Coefficient', ascending=False)"
   ]
  },
  {
   "cell_type": "code",
   "execution_count": 37,
   "id": "american-leader",
   "metadata": {
    "execution": {
     "iopub.execute_input": "2021-05-06T09:38:20.797457Z",
     "iopub.status.busy": "2021-05-06T09:38:20.796491Z",
     "iopub.status.idle": "2021-05-06T09:38:21.551209Z",
     "shell.execute_reply": "2021-05-06T09:38:21.550718Z"
    },
    "papermill": {
     "duration": 0.818636,
     "end_time": "2021-05-06T09:38:21.551379",
     "exception": false,
     "start_time": "2021-05-06T09:38:20.732743",
     "status": "completed"
    },
    "tags": []
   },
   "outputs": [
    {
     "data": {
      "image/png": "[encoded data removed]",
      "text/plain": [
       "<Figure size 432x288 with 1 Axes>"
      ]
     },
     "metadata": {
      "needs_background": "light"
     },
     "output_type": "display_data"
    }
   ],
   "source": [
    "names = train_df.drop('Survived', axis=1).columns\n",
    "importance = model.fit(X, y).feature_importances_\n",
    "_ = plt.plot(range(len(names)), importance)\n",
    "_ = plt.xticks(range(len(names)), names, rotation=90)\n",
    "_ = plt.ylabel('Coefficients')\n",
    "plt.grid(True)\n",
    "plt.show()"
   ]
  },
  {
   "cell_type": "markdown",
   "id": "unavailable-horizon",
   "metadata": {
    "papermill": {
     "duration": 0.051558,
     "end_time": "2021-05-06T09:38:21.655362",
     "exception": false,
     "start_time": "2021-05-06T09:38:21.603804",
     "status": "completed"
    },
    "tags": []
   },
   "source": [
    "#### Sex, Fare and Age impacts survival most "
   ]
  }
 ],
 "metadata": {
  "kernelspec": {
   "display_name": "Python 3",
   "language": "python",
   "name": "python3"
  },
  "language_info": {
   "codemirror_mode": {
    "name": "ipython",
    "version": 3
   },
   "file_extension": ".py",
   "mimetype": "text/x-python",
   "name": "python",
   "nbconvert_exporter": "python",
   "pygments_lexer": "ipython3",
   "version": "3.9.1"
  },
  "papermill": {
   "default_parameters": {},
   "duration": 22.13319,
   "end_time": "2021-05-06T09:38:23.211492",
   "environment_variables": {},
   "exception": null,
   "input_path": "__notebook__.ipynb",
   "output_path": "__notebook__.ipynb",
   "parameters": {},
   "start_time": "2021-05-06T09:38:01.078302",
   "version": "2.3.3"
  }
 },
 "nbformat": 4,
 "nbformat_minor": 5
}
